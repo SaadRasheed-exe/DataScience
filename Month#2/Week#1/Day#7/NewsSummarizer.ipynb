{
 "cells": [
  {
   "cell_type": "code",
   "execution_count": 5,
   "metadata": {},
   "outputs": [],
   "source": [
    "from gensim.summarization.summarizer import summarize # summarize function\n",
    "from gensim.summarization import keywords # keywords from text\n",
    "from bs4 import BeautifulSoup # for webscrapping\n",
    "import requests # to retrieve webpage from url\n",
    "\n",
    "URL = \"https://www.vox.com/recode/2022/10/1/23381257/elon-musk-texts-twitter-billionaires\""
   ]
  },
  {
   "cell_type": "code",
   "execution_count": 6,
   "metadata": {},
   "outputs": [
    {
     "data": {
      "text/plain": [
       "<Response [200]>"
      ]
     },
     "execution_count": 6,
     "metadata": {},
     "output_type": "execute_result"
    }
   ],
   "source": [
    "response = requests.get(URL)\n",
    "response"
   ]
  },
  {
   "cell_type": "code",
   "execution_count": 59,
   "metadata": {},
   "outputs": [],
   "source": [
    "soup = BeautifulSoup(response.content, 'lxml')\n",
    "\n",
    "# title of the news\n",
    "title = soup.title.text.strip()\n",
    "\n",
    "# div tag that contains all the text of pararaph\n",
    "para_tag = soup.find_all('div', attrs={'class':'c-entry-content'})[0]\n",
    "\n",
    "# text from p tags that contain the actual text of news in a list\n",
    "text_list = [str.strip(p.text) for p in para_tag.find_all('p') if p.has_attr('id')]\n",
    "\n",
    "# join the text list to form one single continuous text stream\n",
    "text = ' '.join(text_list)"
   ]
  },
  {
   "cell_type": "code",
   "execution_count": 40,
   "metadata": {},
   "outputs": [
    {
     "data": {
      "text/plain": [
       "1297"
      ]
     },
     "execution_count": 40,
     "metadata": {},
     "output_type": "execute_result"
    }
   ],
   "source": [
    "# word count of original text\n",
    "len(text.split())"
   ]
  },
  {
   "cell_type": "code",
   "execution_count": 61,
   "metadata": {},
   "outputs": [
    {
     "name": "stdout",
     "output_type": "stream",
     "text": [
      "Title: Elon Musk’s texts offer a rare glimpse at the billionaire boys’ club - Vox \n",
      "\n",
      "Summary: A trove of Elon Musk’s text messages was released this week as part of a lawsuit Twitter has filed against the billionaire, and it’s proving to be an illuminating look inside conversations between Musk and a who’s who of celebrities, journalists, Silicon Valley elites, and even politicians.\n",
      "Within days of the announcement that the Twitter board had accepted Musk’s $44 billion offer, Benioff, who is currently worth more than $6 billion, sent Musk a cryptic text about his own vision for the platform, writing on April 27, “Happy to talk about it if this is interesting: Twitter conversational OS—the townsquare for your digital life.” Musk demurred, saying, “Well I don’t own it yet.” The potential for some power and influence over Twitter attracted politicians and the media, too.\n",
      "The messages reveal that former Republican Rep. Justin Amash wanted to talk to Musk, offering his help on “how to handle speech and moderation.” According to a text message from Palantir co-founder Joe Lonsdale, Florida Gov. Ron DeSantis — widely seen as a potential GOP nominee for the 2024 presidential race — threw his support behind Musk’s bid to buy Twitter.\n",
      "The texts reveal that in the weeks after Musk inked the Twitter deal in late April, professing his desire to protect free speech on the platform, his friends and associates eagerly offered (sometimes unsolicited) advice on the direction Twitter should take with Musk at the helm.\n",
      "\n",
      "Word Count: 235\n"
     ]
    }
   ],
   "source": [
    "# summary of original text\n",
    "summary = summarize(text, ratio=0.1)\n",
    "print('Title:', title, '\\n\\nSummary:', summary)\n",
    "print('\\nWord Count:', len(summary.split()))"
   ]
  },
  {
   "cell_type": "code",
   "execution_count": 48,
   "metadata": {},
   "outputs": [
    {
     "name": "stdout",
     "output_type": "stream",
     "text": [
      "twitter\n",
      "musk\n",
      "texting\n",
      "media\n",
      "founders\n",
      "rogan\n",
      "like\n",
      "speech\n",
      "hoffman\n",
      "april\n",
      "murdoch\n",
      "offered\n",
      "replied\n",
      "journalist\n",
      "exchanges\n",
      "billionaires\n",
      "billion\n",
      "desantis\n",
      "macaskill\n",
      "ceo\n",
      "hobbies\n",
      "democratic\n",
      "discovery\n",
      "joint\n",
      "years\n",
      "gop\n",
      "chancery\n",
      "person\n",
      "volley\n"
     ]
    }
   ],
   "source": [
    "# keywords related to the news\n",
    "print(keywords(text, ratio=0.1, lemmatize=True))"
   ]
  }
 ],
 "metadata": {
  "kernelspec": {
   "display_name": "Python 3.10.2 64-bit",
   "language": "python",
   "name": "python3"
  },
  "language_info": {
   "codemirror_mode": {
    "name": "ipython",
    "version": 3
   },
   "file_extension": ".py",
   "mimetype": "text/x-python",
   "name": "python",
   "nbconvert_exporter": "python",
   "pygments_lexer": "ipython3",
   "version": "3.10.2"
  },
  "orig_nbformat": 4,
  "vscode": {
   "interpreter": {
    "hash": "592416657b89622fbe22bb06017f030e5d4008179d4a69fc6d077fd5287fafc1"
   }
  }
 },
 "nbformat": 4,
 "nbformat_minor": 2
}
